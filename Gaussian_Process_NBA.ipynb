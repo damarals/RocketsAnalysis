{
  "nbformat": 4,
  "nbformat_minor": 0,
  "metadata": {
    "colab": {
      "name": "Gaussian Process - NBA.ipynb",
      "provenance": []
    },
    "kernelspec": {
      "name": "python3",
      "display_name": "Python 3"
    },
    "language_info": {
      "name": "python"
    }
  },
  "cells": [
    {
      "cell_type": "code",
      "metadata": {
        "id": "ygYQwgypbjwM"
      },
      "source": [
        "#!pip install GPyOpt\n",
        "#!pip install Gpy\n",
        "\n",
        "import numpy as np\n",
        "import pandas as pd\n",
        "from sklearn.gaussian_process import GaussianProcessRegressor\n",
        "from sklearn.gaussian_process.kernels import WhiteKernel, ConstantKernel, RBF, ExpSineSquared\n",
        "from sklearn.metrics import mean_absolute_error\n",
        "import GPy\n",
        "import GPyOpt\n",
        "from GPyOpt.methods import BayesianOptimization\n",
        "from sklearn.model_selection import cross_val_score\n",
        "import matplotlib.pyplot as plt\n",
        "from matplotlib.ticker import FormatStrFormatter\n",
        "import seaborn as sns\n",
        "sns.set_style(\"whitegrid\")\n",
        "sns.set_palette(palette='deep')\n",
        "sns_c = sns.color_palette(palette='deep')\n",
        "%matplotlib inline\n",
        "plt.rcParams['figure.figsize'] = [12, 6]\n",
        "plt.rcParams['figure.dpi'] = 100"
      ],
      "execution_count": 1,
      "outputs": []
    },
    {
      "cell_type": "markdown",
      "metadata": {
        "id": "UHONtUZpF8KC"
      },
      "source": [
        "## Get Data"
      ]
    },
    {
      "cell_type": "code",
      "metadata": {
        "colab": {
          "base_uri": "https://localhost:8080/",
          "height": 204
        },
        "id": "J-hwPS1vF7xo",
        "outputId": "650a5c36-2cfc-48e3-8a7c-54882a85fa54"
      },
      "source": [
        "data_pbp = pd.read_csv(\"https://raw.githubusercontent.com/damarals/RocketsAnalysis/master/data_gp.csv\")\n",
        "data_pbp.head()"
      ],
      "execution_count": 2,
      "outputs": [
        {
          "output_type": "execute_result",
          "data": {
            "text/html": [
              "<div>\n",
              "<style scoped>\n",
              "    .dataframe tbody tr th:only-of-type {\n",
              "        vertical-align: middle;\n",
              "    }\n",
              "\n",
              "    .dataframe tbody tr th {\n",
              "        vertical-align: top;\n",
              "    }\n",
              "\n",
              "    .dataframe thead th {\n",
              "        text-align: right;\n",
              "    }\n",
              "</style>\n",
              "<table border=\"1\" class=\"dataframe\">\n",
              "  <thead>\n",
              "    <tr style=\"text-align: right;\">\n",
              "      <th></th>\n",
              "      <th>ID</th>\n",
              "      <th>HomeNameAll</th>\n",
              "      <th>AwayNameAll</th>\n",
              "      <th>Home</th>\n",
              "      <th>Minute</th>\n",
              "      <th>RivalScore</th>\n",
              "      <th>Score</th>\n",
              "    </tr>\n",
              "  </thead>\n",
              "  <tbody>\n",
              "    <tr>\n",
              "      <th>0</th>\n",
              "      <td>21900015</td>\n",
              "      <td>Houston Rockets</td>\n",
              "      <td>Milwaukee Bucks</td>\n",
              "      <td>1</td>\n",
              "      <td>0</td>\n",
              "      <td>0</td>\n",
              "      <td>5</td>\n",
              "    </tr>\n",
              "    <tr>\n",
              "      <th>1</th>\n",
              "      <td>21900015</td>\n",
              "      <td>Houston Rockets</td>\n",
              "      <td>Milwaukee Bucks</td>\n",
              "      <td>1</td>\n",
              "      <td>1</td>\n",
              "      <td>0</td>\n",
              "      <td>7</td>\n",
              "    </tr>\n",
              "    <tr>\n",
              "      <th>2</th>\n",
              "      <td>21900015</td>\n",
              "      <td>Houston Rockets</td>\n",
              "      <td>Milwaukee Bucks</td>\n",
              "      <td>1</td>\n",
              "      <td>2</td>\n",
              "      <td>2</td>\n",
              "      <td>12</td>\n",
              "    </tr>\n",
              "    <tr>\n",
              "      <th>3</th>\n",
              "      <td>21900015</td>\n",
              "      <td>Houston Rockets</td>\n",
              "      <td>Milwaukee Bucks</td>\n",
              "      <td>1</td>\n",
              "      <td>3</td>\n",
              "      <td>5</td>\n",
              "      <td>17</td>\n",
              "    </tr>\n",
              "    <tr>\n",
              "      <th>4</th>\n",
              "      <td>21900015</td>\n",
              "      <td>Houston Rockets</td>\n",
              "      <td>Milwaukee Bucks</td>\n",
              "      <td>1</td>\n",
              "      <td>4</td>\n",
              "      <td>5</td>\n",
              "      <td>17</td>\n",
              "    </tr>\n",
              "  </tbody>\n",
              "</table>\n",
              "</div>"
            ],
            "text/plain": [
              "         ID      HomeNameAll      AwayNameAll  Home  Minute  RivalScore  Score\n",
              "0  21900015  Houston Rockets  Milwaukee Bucks     1       0           0      5\n",
              "1  21900015  Houston Rockets  Milwaukee Bucks     1       1           0      7\n",
              "2  21900015  Houston Rockets  Milwaukee Bucks     1       2           2     12\n",
              "3  21900015  Houston Rockets  Milwaukee Bucks     1       3           5     17\n",
              "4  21900015  Houston Rockets  Milwaukee Bucks     1       4           5     17"
            ]
          },
          "metadata": {
            "tags": []
          },
          "execution_count": 2
        }
      ]
    },
    {
      "cell_type": "markdown",
      "metadata": {
        "id": "rgseaK7LfIrv"
      },
      "source": [
        "## Split Data for Visualizing"
      ]
    },
    {
      "cell_type": "code",
      "metadata": {
        "colab": {
          "base_uri": "https://localhost:8080/"
        },
        "id": "aWTyviuWGjzg",
        "outputId": "16d33829-2f51-47fd-d048-d064fd47e5c7"
      },
      "source": [
        "schedules = np.unique(data_pbp.loc[:, \"ID\"].to_numpy())\n",
        "schedules"
      ],
      "execution_count": 3,
      "outputs": [
        {
          "output_type": "execute_result",
          "data": {
            "text/plain": [
              "array([21900015, 21900032, 21900045, 21900061, 21900069, 21900086,\n",
              "       21900093, 21900107, 21900129, 21900142, 21900157, 21900169,\n",
              "       21900179, 21900193, 21900211, 21900224, 21900235, 21900259,\n",
              "       21900282, 21900303, 21900318, 21900333, 21900346, 21900356,\n",
              "       21900371, 21900386, 21900396, 21900419, 21900437, 21900453,\n",
              "       21900457, 21900478, 21900488, 21900501, 21900520, 21900558,\n",
              "       21900566, 21900577, 21900600, 21900611, 21900633, 21900645,\n",
              "       21900662, 21900675, 21900685, 21900698, 21900712, 21900722,\n",
              "       21900738, 21900752, 21900768, 21900774, 21900790, 21900806,\n",
              "       21900825, 21900841, 21900853, 21900870, 21900892, 21900903,\n",
              "       21900927, 21900940, 21900953, 21900963, 21901238, 21901248,\n",
              "       21901261, 21901273, 21901290, 21901298, 21901304, 21901315])"
            ]
          },
          "metadata": {
            "tags": []
          },
          "execution_count": 3
        }
      ]
    },
    {
      "cell_type": "code",
      "metadata": {
        "id": "zcL5xA4RfIZ_"
      },
      "source": [
        "## Home\n",
        "# Comb 1\n",
        "data_train1 = data_pbp[(data_pbp.ID.isin(schedules[0:6])) & (data_pbp.Minute <= 48)]\n",
        "data_test1 = data_pbp[(data_pbp.ID == schedules[6]) & (data_pbp.Minute <= 48)]\n",
        "\n",
        "X_train1 = data_train1.iloc[:, [3, 4, 5]].to_numpy()\n",
        "y_train1 = data_train1.Score.to_numpy()\n",
        "\n",
        "X_test1 = data_test1.iloc[:, [3, 4, 5]].to_numpy()\n",
        "y_test1 = data_test1.Score.to_numpy()\n",
        "\n",
        "# Comb 2\n",
        "data_train2 = data_pbp[(data_pbp.ID.isin(schedules[16:23])) & (data_pbp.Minute <= 48)]\n",
        "data_test2 = data_pbp[(data_pbp.ID == schedules[23]) & (data_pbp.Minute <= 48)]\n",
        "\n",
        "X_train2 = data_train2.iloc[:, [3, 4, 5]].to_numpy()\n",
        "y_train2 = data_train2.Score.to_numpy()\n",
        "\n",
        "X_test2 = data_test2.iloc[:, [3, 4, 5]].to_numpy()\n",
        "y_test2 = data_test2.Score.to_numpy()\n",
        "\n",
        "# Comb 3\n",
        "data_train3 = data_pbp[(data_pbp.ID.isin(schedules[24:31])) & (data_pbp.Minute <= 48)]\n",
        "data_test3 = data_pbp[(data_pbp.ID == schedules[31]) & (data_pbp.Minute <= 48)]\n",
        "\n",
        "X_train3 = data_train3.iloc[:, [3, 4, 5]].to_numpy()\n",
        "y_train3 = data_train3.Score.to_numpy()\n",
        "\n",
        "X_test3 = data_test3.iloc[:, [3, 4, 5]].to_numpy()\n",
        "y_test3 = data_test3.Score.to_numpy()\n",
        "\n",
        "# Comb 4\n",
        "data_train4 = data_pbp[(data_pbp.ID.isin(schedules[32:39])) & (data_pbp.Minute <= 48)]\n",
        "data_test4 = data_pbp[(data_pbp.ID == schedules[39]) & (data_pbp.Minute <= 48)]\n",
        "\n",
        "X_train4 = data_train4.iloc[:, [3, 4, 5]].to_numpy()\n",
        "y_train4 = data_train4.Score.to_numpy()\n",
        "\n",
        "X_test4 = data_test4.iloc[:, [3, 4, 5]].to_numpy()\n",
        "y_test4 = data_test4.Score.to_numpy()"
      ],
      "execution_count": 4,
      "outputs": []
    },
    {
      "cell_type": "markdown",
      "metadata": {
        "id": "hrpPUuYNcq_b"
      },
      "source": [
        "## Models for Visualizing"
      ]
    },
    {
      "cell_type": "code",
      "metadata": {
        "id": "t7hBw3373vB2"
      },
      "source": [
        "# Ruído Branco\n",
        "k0 = WhiteKernel(noise_level_bounds = (1e-30, 100))\n",
        "# Tendência\n",
        "k1 = ConstantKernel(constant_value_bounds = (1e-30, 100)) * \\\n",
        "  RBF(length_scale_bounds = (1e-20, 500))\n",
        "# Sazonalidade\n",
        "k2 = ConstantKernel(constant_value_bounds = (1e-30, 100)) * \\\n",
        "  ExpSineSquared(length_scale_bounds = (1e-20, 500))\n",
        "  \n",
        "# GP RBF\n",
        "gp_opt1_rbf = GaussianProcessRegressor(\n",
        "    kernel = k0 + k1,\n",
        "    n_restarts_optimizer = 20,\n",
        "    random_state = 502670\n",
        ")\n",
        "gp_opt2_rbf = GaussianProcessRegressor(\n",
        "    kernel = k0 + k1,\n",
        "    n_restarts_optimizer = 20,\n",
        "    random_state = 502670\n",
        ")\n",
        "gp_opt3_rbf = GaussianProcessRegressor(\n",
        "    kernel = k0 + k1,\n",
        "    n_restarts_optimizer = 20,\n",
        "    random_state = 502670\n",
        ")\n",
        "gp_opt4_rbf = GaussianProcessRegressor(\n",
        "    kernel = k0 + k1,\n",
        "    n_restarts_optimizer = 20,\n",
        "    random_state = 502670\n",
        ")\n",
        "\n",
        "# GP RBF+ExpSin\n",
        "\n",
        "gp_opt1_rbfexp = GaussianProcessRegressor(\n",
        "    kernel = k0 + k1 + k2,\n",
        "    n_restarts_optimizer = 20,\n",
        "    random_state = 502670\n",
        ")\n",
        "gp_opt2_rbfexp = GaussianProcessRegressor(\n",
        "    kernel = k0 + k1 + k2,\n",
        "    n_restarts_optimizer = 20,\n",
        "    random_state = 502670\n",
        ")\n",
        "gp_opt3_rbfexp = GaussianProcessRegressor(\n",
        "    kernel = k0 + k1 + k2,\n",
        "    n_restarts_optimizer = 20,\n",
        "    random_state = 502670\n",
        ")\n",
        "gp_opt4_rbfexp = GaussianProcessRegressor(\n",
        "    kernel = k0 + k1 + k2,\n",
        "    n_restarts_optimizer = 20,\n",
        "    random_state = 502670\n",
        ")"
      ],
      "execution_count": 5,
      "outputs": []
    },
    {
      "cell_type": "markdown",
      "metadata": {
        "id": "I-CU4hgzc1eV"
      },
      "source": [
        "## Fit Models for Visualizing"
      ]
    },
    {
      "cell_type": "code",
      "metadata": {
        "id": "K3OADNL5a3H_",
        "colab": {
          "base_uri": "https://localhost:8080/"
        },
        "outputId": "ede36b8a-b349-49dc-bf41-d0c10c58e07b"
      },
      "source": [
        "gp_opt1_rbf.fit(X_train1, y_train1.reshape(-1, 1))\n",
        "gp_opt2_rbf.fit(X_train2, y_train2.reshape(-1, 1))\n",
        "gp_opt3_rbf.fit(X_train3, y_train3.reshape(-1, 1))\n",
        "gp_opt4_rbf.fit(X_train4, y_train4.reshape(-1, 1))\n",
        "\n",
        "gp_opt1_rbfexp.fit(X_train1, y_train1.reshape(-1, 1))\n",
        "gp_opt2_rbfexp.fit(X_train2, y_train2.reshape(-1, 1))\n",
        "gp_opt3_rbfexp.fit(X_train3, y_train3.reshape(-1, 1))\n",
        "gp_opt4_rbfexp.fit(X_train4, y_train4.reshape(-1, 1))"
      ],
      "execution_count": 6,
      "outputs": [
        {
          "output_type": "execute_result",
          "data": {
            "text/plain": [
              "GaussianProcessRegressor(alpha=1e-10, copy_X_train=True,\n",
              "                         kernel=WhiteKernel(noise_level=1) + 1**2 * RBF(length_scale=1) + 1**2 * ExpSineSquared(length_scale=1, periodicity=1),\n",
              "                         n_restarts_optimizer=20, normalize_y=False,\n",
              "                         optimizer='fmin_l_bfgs_b', random_state=502670)"
            ]
          },
          "metadata": {
            "tags": []
          },
          "execution_count": 6
        }
      ]
    },
    {
      "cell_type": "markdown",
      "metadata": {
        "id": "zw9VkDB_c9rN"
      },
      "source": [
        "## Prediction and Visualizing"
      ]
    },
    {
      "cell_type": "code",
      "metadata": {
        "id": "2XigaoPxfbIW"
      },
      "source": [
        "# Generate predictions RBF.\n",
        "# Pred 1\n",
        "y_pred1_rbfexp, y_std1_rbfexp = gp_opt1_rbfexp.predict(X_test1, return_std = True)\n",
        "\n",
        "y_pred1_rbfexp_lwr = y_pred1_rbfexp.flatten() - 2*y_std1_rbfexp\n",
        "y_pred1_rbfexp_upr = y_pred1_rbfexp.flatten() + 2*y_std1_rbfexp\n",
        "\n",
        "# Pred 2\n",
        "y_pred2_rbfexp, y_std2_rbfexp = gp_opt2_rbfexp.predict(X_test2, return_std = True)\n",
        "\n",
        "y_pred2_rbfexp_lwr = y_pred2_rbfexp.flatten() - 2*y_std2_rbfexp\n",
        "y_pred2_rbfexp_upr = y_pred2_rbfexp.flatten() + 2*y_std2_rbfexp\n",
        "\n",
        "# Pred 3\n",
        "y_pred3_rbfexp, y_std3_rbfexp = gp_opt3_rbfexp.predict(X_test3, return_std = True)\n",
        "\n",
        "y_pred3_rbfexp_lwr = y_pred3_rbfexp.flatten() - 2*y_std3_rbfexp\n",
        "y_pred3_rbfexp_upr = y_pred3_rbfexp.flatten() + 2*y_std3_rbfexp\n",
        "\n",
        "# Pred 4\n",
        "y_pred4_rbfexp, y_std4_rbfexp = gp_opt4_rbfexp.predict(X_test4, return_std = True)\n",
        "\n",
        "y_pred4_rbfexp_lwr = y_pred4_rbfexp.flatten() - 2*y_std4_rbfexp\n",
        "y_pred4_rbfexp_upr = y_pred4_rbfexp.flatten() + 2*y_std4_rbfexp"
      ],
      "execution_count": 7,
      "outputs": []
    },
    {
      "cell_type": "code",
      "metadata": {
        "id": "ew5eRSmzfLYI"
      },
      "source": [
        "# Generate predictions RBF + ExpSin.\n",
        "## Home\n",
        "# Pred 1\n",
        "y_pred1_rbf, y_std1_rbf = gp_opt1_rbf.predict(X_test1, return_std = True)\n",
        "\n",
        "y_pred1_rbf_lwr = y_pred1_rbf.flatten() - 2*y_std1_rbf\n",
        "y_pred1_rbf_upr = y_pred1_rbf.flatten() + 2*y_std1_rbf\n",
        "\n",
        "# Pred 2\n",
        "y_pred2_rbf, y_std2_rbf = gp_opt2_rbf.predict(X_test2, return_std = True)\n",
        "\n",
        "y_pred2_rbf_lwr = y_pred2_rbf.flatten() - 2*y_std2_rbf\n",
        "y_pred2_rbf_upr = y_pred2_rbf.flatten() + 2*y_std2_rbf\n",
        "\n",
        "# Pred 3\n",
        "y_pred3_rbf, y_std3_rbf = gp_opt3_rbf.predict(X_test3, return_std = True)\n",
        "\n",
        "y_pred3_rbf_lwr = y_pred3_rbf.flatten() - 2*y_std3_rbf\n",
        "y_pred3_rbf_upr = y_pred3_rbf.flatten() + 2*y_std3_rbf\n",
        "\n",
        "# Pred 4\n",
        "y_pred4_rbf, y_std4_rbf = gp_opt4_rbf.predict(X_test4, return_std = True)\n",
        "\n",
        "y_pred4_rbf_lwr = y_pred4_rbf.flatten() - 2*y_std4_rbf\n",
        "y_pred4_rbf_upr = y_pred4_rbf.flatten() + 2*y_std4_rbf"
      ],
      "execution_count": 8,
      "outputs": []
    },
    {
      "cell_type": "code",
      "metadata": {
        "id": "38xv3bsmf9Sp",
        "colab": {
          "base_uri": "https://localhost:8080/",
          "height": 441
        },
        "outputId": "c3da8af9-5763-4558-f2b6-39f9f79ca8ca"
      },
      "source": [
        "fig, ax = plt.subplots(2, 2, sharey = True, sharex = True, figsize=(12, 6))\n",
        "\n",
        "ax[0, 0].fill_between(\n",
        "    x = X_test1[:, 1], \n",
        "    y1 = y_pred1_rbf_lwr, \n",
        "    y2 = y_pred1_rbf_upr, \n",
        "    color = sns_c[2], \n",
        "    alpha = 0.15, \n",
        "    label = 'IC GP (Const., RBF)'\n",
        ")\n",
        "ax[0, 0].fill_between(\n",
        "    x = X_test1[:, 1], \n",
        "    y1 = y_pred1_rbfexp_lwr, \n",
        "    y2 = y_pred1_rbfexp_upr, \n",
        "    color = sns_c[3], \n",
        "    alpha = 0.15, \n",
        "    label = 'IC GP (Const., RBF, ExpSin)'\n",
        ")\n",
        "\n",
        "ax[0, 1].fill_between(\n",
        "    x = X_test2[:, 1], \n",
        "    y1 = y_pred2_rbf_lwr, \n",
        "    y2 = y_pred2_rbf_upr, \n",
        "    color = sns_c[2], \n",
        "    alpha = 0.15, \n",
        "    label = 'IC GP (Const., RBF)'\n",
        ")\n",
        "ax[0, 1].fill_between(\n",
        "    x = X_test2[:, 1], \n",
        "    y1 = y_pred2_rbfexp_lwr, \n",
        "    y2 = y_pred2_rbfexp_upr, \n",
        "    color = sns_c[3], \n",
        "    alpha = 0.15, \n",
        "    label = 'IC GP (Const., RBF, ExpSin)'\n",
        ")\n",
        "\n",
        "ax[1, 0].fill_between(\n",
        "    x = X_test3[:, 1], \n",
        "    y1 = y_pred3_rbf_lwr, \n",
        "    y2 = y_pred3_rbf_upr, \n",
        "    color = sns_c[2], \n",
        "    alpha = 0.15, \n",
        "    label = 'IC GP (Const., RBF)'\n",
        ")\n",
        "ax[1, 0].fill_between(\n",
        "    x = X_test3[:, 1], \n",
        "    y1 = y_pred3_rbfexp_lwr, \n",
        "    y2 = y_pred3_rbfexp_upr, \n",
        "    color = sns_c[3], \n",
        "    alpha = 0.15, \n",
        "    label = 'IC GP (Const., RBF, ExpSin)'\n",
        ")\n",
        "\n",
        "ax[1, 1].fill_between(\n",
        "    x = X_test4[:, 1], \n",
        "    y1 = y_pred4_rbf_lwr, \n",
        "    y2 = y_pred4_rbf_upr, \n",
        "    color = sns_c[2], \n",
        "    alpha = 0.15, \n",
        "    label = 'IC GP (Const., RBF)'\n",
        ")\n",
        "ax[1, 1].fill_between(\n",
        "    x = X_test4[:, 1], \n",
        "    y1 = y_pred4_rbfexp_lwr, \n",
        "    y2 = y_pred4_rbfexp_upr, \n",
        "    color = sns_c[3], \n",
        "    alpha = 0.15, \n",
        "    label = 'IC GP (Const., RBF, ExpSin)'\n",
        ")\n",
        "#x_ticks_labels = ['1st','2st','3st','4st']\n",
        "\n",
        "sns.lineplot(ax = ax[0, 0], x = X_test1[:, 1], y = y_test1, color = sns_c[0], label = 'Pontuação Real')\n",
        "sns.lineplot(ax = ax[0, 0], x = X_test1[:, 1], y = y_pred1_rbf.flatten(), color=sns_c[2], label = 'GP (Const., RBF)')\n",
        "sns.lineplot(ax = ax[0, 0], x = X_test1[:, 1], y = y_pred1_rbfexp.flatten(), color=sns_c[3], label = 'GP (Const., RBF, ExpSine)')\n",
        "\n",
        "sns.lineplot(ax = ax[0, 1], x = X_test2[:, 1], y = y_test2, color = sns_c[0], label = 'Pontuação Real')\n",
        "sns.lineplot(ax = ax[0, 1], x = X_test2[:, 1], y = y_pred2_rbf.flatten(), color=sns_c[2], label = 'GP (Const., RBF)')\n",
        "sns.lineplot(ax = ax[0, 1], x = X_test2[:, 1], y = y_pred2_rbfexp.flatten(), color=sns_c[3], label = 'GP (Const., RBF, ExpSine)')\n",
        "\n",
        "sns.lineplot(ax = ax[1, 0], x = X_test3[:, 1], y = y_test3, color = sns_c[0], label = 'Pontuação Real')\n",
        "sns.lineplot(ax = ax[1, 0], x = X_test3[:, 1], y = y_pred3_rbf.flatten(), color=sns_c[2], label = 'GP (Const., RBF)')\n",
        "sns.lineplot(ax = ax[1, 0], x = X_test3[:, 1], y = y_pred3_rbfexp.flatten(), color=sns_c[3], label = 'GP (Const., RBF, ExpSine)')\n",
        "\n",
        "sns.lineplot(ax = ax[1, 1], x = X_test4[:, 1], y = y_test4, color = sns_c[0], label = 'Pontuação Real')\n",
        "sns.lineplot(ax = ax[1, 1], x = X_test4[:, 1], y = y_pred4_rbf.flatten(), color=sns_c[2], label = 'GP (Const., RBF)')\n",
        "sns.lineplot(ax = ax[1, 1], x = X_test4[:, 1], y = y_pred4_rbfexp.flatten(), color=sns_c[3], label = 'GP (Const., RBF, ExpSine)')\n",
        "\n",
        "# Rival Name\n",
        "name1 = data_pbp[data_pbp.ID == schedules[6]].iloc[:, data_pbp[data_pbp.ID == schedules[6]].Home.to_numpy()[0] + 1].to_numpy()[0]\n",
        "name2 = data_pbp[data_pbp.ID == schedules[23]].iloc[:, data_pbp[data_pbp.ID == schedules[23]].Home.to_numpy()[0] + 1].to_numpy()[0]\n",
        "name3 = data_pbp[data_pbp.ID == schedules[31]].iloc[:, data_pbp[data_pbp.ID == schedules[31]].Home.to_numpy()[0] + 1].to_numpy()[0]\n",
        "name4 = data_pbp[data_pbp.ID == schedules[39]].iloc[:, data_pbp[data_pbp.ID == schedules[39]].Home.to_numpy()[0] + 1].to_numpy()[0]\n",
        "\n",
        "ax[0, 0].set(title = 'vs {}'.format(name1), \n",
        "             xlabel = 'Minuto', ylabel = 'Pontuação')\n",
        "ax[0, 1].set(title = 'vs {}'.format(name2), \n",
        "             xlabel = 'Minuto', ylabel = 'Pontuação')\n",
        "ax[1, 0].set(title = 'vs {}'.format(name3), \n",
        "             xlabel = 'Minuto', ylabel = 'Pontuação')\n",
        "ax[1, 1].set(title = 'vs {}'.format(name4), \n",
        "             xlabel = 'Minuto', ylabel = 'Pontuação')\n",
        "plt.ylim((0, 140))\n",
        "\n",
        "fig.tight_layout()\n",
        "fig.show()"
      ],
      "execution_count": 9,
      "outputs": [
        {
          "output_type": "display_data",
          "data": {
            "image/png": "[encoded data removed]",
            "text/plain": [
              "<Figure size 864x432 with 4 Axes>"
            ]
          },
          "metadata": {
            "tags": [],
            "needs_background": "light"
          }
        }
      ]
    },
    {
      "cell_type": "markdown",
      "metadata": {
        "id": "JjfZvTeddWEH"
      },
      "source": [
        "## Run all game combination scenarios and get statistics"
      ]
    },
    {
      "cell_type": "code",
      "metadata": {
        "id": "cx2lNK5SrGPK"
      },
      "source": [
        "R2_RBF = []\n",
        "R2_RBFExpSin = []\n",
        "MAE_RBF = []\n",
        "MAE_RBFExpSin = []\n",
        "\n",
        "for game in range(7, len(schedules)):\n",
        "\n",
        "  ## Models\n",
        "  gp_opt_rbf = GaussianProcessRegressor(\n",
        "    kernel = k0 + k1,\n",
        "    n_restarts_optimizer = 20,\n",
        "    random_state = 502670\n",
        "  )\n",
        "  gp_opt_rbfexp = GaussianProcessRegressor(\n",
        "    kernel = k0 + k1 + k2,\n",
        "    n_restarts_optimizer = 20,\n",
        "    random_state = 502670\n",
        "  )\n",
        "\n",
        "  ## Data\n",
        "  data_train = data_pbp[(data_pbp.ID.isin(schedules[game-7:game])) & (data_pbp.Minute <= 48)]\n",
        "  data_test = data_pbp[(data_pbp.ID == schedules[game]) & (data_pbp.Minute <= 48)]\n",
        "\n",
        "  X_train = data_train.iloc[:, [3, 4, 5]].to_numpy()\n",
        "  y_train = data_train.Score.to_numpy()\n",
        "\n",
        "  X_test = data_test.iloc[:, [3, 4, 5]].to_numpy()\n",
        "  y_test = data_test.Score.to_numpy()\n",
        "\n",
        "  ## Fit\n",
        "  gp_opt_rbf.fit(X_train, y_train.reshape(-1, 1))\n",
        "  gp_opt_rbfexp.fit(X_train, y_train.reshape(-1, 1))\n",
        "\n",
        "  ## Prediction\n",
        "  y_pred_rbf, y_std_rbf = gp_opt_rbf.predict(X_test, return_std = True)\n",
        "  y_pred_rbf_lwr = y_pred_rbf.flatten() - 2*y_std_rbf\n",
        "  y_pred_rbf_upr = y_pred_rbf.flatten() + 2*y_std_rbf\n",
        "\n",
        "  y_pred_rbfexp, y_std_rbfexp = gp_opt_rbfexp.predict(X_test, return_std = True)\n",
        "  y_pred_rbfexp_lwr = y_pred_rbfexp.flatten() - 2*y_std_rbfexp\n",
        "  y_pred_rbfexp_upr = y_pred_rbfexp.flatten() + 2*y_std_rbfexp\n",
        "\n",
        "  ## Get Metrics\n",
        "\n",
        "  R2_RBF.append(gp_opt1_rbf.score(X = X_test, y = y_test.reshape(-1, 1)))\n",
        "  R2_RBFExpSin.append(gp_opt1_rbfexp.score(X = X_test, y = y_test.reshape(-1, 1)))\n",
        "  MAE_RBF.append(mean_absolute_error(y_true = y_test.reshape(-1, 1), y_pred = gp_opt_rbf.predict(X_test)))\n",
        "  MAE_RBFExpSin.append(mean_absolute_error(y_true = y_test.reshape(-1, 1), y_pred = gp_opt_rbfexp.predict(X_test)))"
      ],
      "execution_count": 10,
      "outputs": []
    },
    {
      "cell_type": "markdown",
      "metadata": {
        "id": "UsuH1JVUdunn"
      },
      "source": [
        "## Export Statistics"
      ]
    },
    {
      "cell_type": "code",
      "metadata": {
        "id": "8sYfVvO2tKFK"
      },
      "source": [
        "metrics = pd.DataFrame({\"R2_RBF\": R2_RBF,\n",
        "                        \"R2_RBFExpSin\": R2_RBFExpSin,\n",
        "                        \"MAE_RBF\": MAE_RBF,\n",
        "                        \"MAE_RBFExpsin\": MAE_RBFExpSin})\n",
        "metrics.to_csv(\"metrics.csv\")"
      ],
      "execution_count": 11,
      "outputs": []
    },
    {
      "cell_type": "markdown",
      "metadata": {
        "id": "BoHGZxDmd2iu"
      },
      "source": [
        "## Table of Statistics"
      ]
    },
    {
      "cell_type": "code",
      "metadata": {
        "id": "fwYL9Q27mbVB"
      },
      "source": [
        "R2_RBF = np.round(R2_RBF, 4)\n",
        "R2_RBFExpSin = np.round(R2_RBFExpSin, 4)\n",
        "MAE_RBF = np.round(MAE_RBF, 4)\n",
        "MAE_RBFExpSin = np.round(MAE_RBFExpSin, 4)"
      ],
      "execution_count": 12,
      "outputs": []
    },
    {
      "cell_type": "code",
      "metadata": {
        "id": "82biUVyT03WH"
      },
      "source": [
        "R2_table = pd.DataFrame({\"Kernel\": [\"RBF\", \"RBF+ExpSin\"], \n",
        "              \"Min\": [np.min(R2_RBF), np.min(R2_RBFExpSin)],\n",
        "              \"Q1\": [np.quantile(R2_RBF, 0.25), np.quantile(R2_RBFExpSin, 0.25)],\n",
        "              \"Mean\": [np.mean(R2_RBF), np.mean(R2_RBFExpSin)], \n",
        "              \"Median\": [np.median(R2_RBF), np.median(R2_RBFExpSin)], \n",
        "              \"Q3\": [np.quantile(R2_RBF, 0.75), np.quantile(R2_RBFExpSin, 0.75)],\n",
        "              \"Max\": [np.max(R2_RBF), np.max(R2_RBFExpSin)]})\n",
        "\n",
        "MAE_table = pd.DataFrame({\"Kernel\": [\"RBF\", \"RBF+ExpSin\"], \n",
        "              \"Min\": [np.min(MAE_RBF), np.min(MAE_RBFExpSin)],\n",
        "              \"Q1\": [np.quantile(MAE_RBF, 0.25), np.quantile(MAE_RBFExpSin, 0.25)],\n",
        "              \"Mean\": [np.mean(MAE_RBF), np.mean(MAE_RBFExpSin)], \n",
        "              \"Median\": [np.median(MAE_RBF), np.median(MAE_RBFExpSin)], \n",
        "              \"Q3\": [np.quantile(MAE_RBF, 0.75), np.quantile(MAE_RBFExpSin, 0.75)],\n",
        "              \"Max\": [np.max(MAE_RBF), np.max(MAE_RBFExpSin)]})"
      ],
      "execution_count": 13,
      "outputs": []
    },
    {
      "cell_type": "code",
      "metadata": {
        "colab": {
          "base_uri": "https://localhost:8080/",
          "height": 111
        },
        "id": "jnbSL0aH2FJ7",
        "outputId": "9d867b92-3442-4b91-fb97-147ce64f8417"
      },
      "source": [
        "R2_table"
      ],
      "execution_count": 14,
      "outputs": [
        {
          "output_type": "execute_result",
          "data": {
            "text/html": [
              "<div>\n",
              "<style scoped>\n",
              "    .dataframe tbody tr th:only-of-type {\n",
              "        vertical-align: middle;\n",
              "    }\n",
              "\n",
              "    .dataframe tbody tr th {\n",
              "        vertical-align: top;\n",
              "    }\n",
              "\n",
              "    .dataframe thead th {\n",
              "        text-align: right;\n",
              "    }\n",
              "</style>\n",
              "<table border=\"1\" class=\"dataframe\">\n",
              "  <thead>\n",
              "    <tr style=\"text-align: right;\">\n",
              "      <th></th>\n",
              "      <th>Kernel</th>\n",
              "      <th>Min</th>\n",
              "      <th>Q1</th>\n",
              "      <th>Mean</th>\n",
              "      <th>Median</th>\n",
              "      <th>Q3</th>\n",
              "      <th>Max</th>\n",
              "    </tr>\n",
              "  </thead>\n",
              "  <tbody>\n",
              "    <tr>\n",
              "      <th>0</th>\n",
              "      <td>RBF</td>\n",
              "      <td>0.5115</td>\n",
              "      <td>0.8890</td>\n",
              "      <td>0.911343</td>\n",
              "      <td>0.9449</td>\n",
              "      <td>0.9666</td>\n",
              "      <td>0.9907</td>\n",
              "    </tr>\n",
              "    <tr>\n",
              "      <th>1</th>\n",
              "      <td>RBF+ExpSin</td>\n",
              "      <td>0.5106</td>\n",
              "      <td>0.8799</td>\n",
              "      <td>0.907515</td>\n",
              "      <td>0.9399</td>\n",
              "      <td>0.9639</td>\n",
              "      <td>0.9867</td>\n",
              "    </tr>\n",
              "  </tbody>\n",
              "</table>\n",
              "</div>"
            ],
            "text/plain": [
              "       Kernel     Min      Q1      Mean  Median      Q3     Max\n",
              "0         RBF  0.5115  0.8890  0.911343  0.9449  0.9666  0.9907\n",
              "1  RBF+ExpSin  0.5106  0.8799  0.907515  0.9399  0.9639  0.9867"
            ]
          },
          "metadata": {
            "tags": []
          },
          "execution_count": 14
        }
      ]
    },
    {
      "cell_type": "code",
      "metadata": {
        "id": "6JZE3snH3BmI",
        "colab": {
          "base_uri": "https://localhost:8080/",
          "height": 111
        },
        "outputId": "cb75ff65-0627-4129-82d1-c2183ef1e1c0"
      },
      "source": [
        "MAE_table"
      ],
      "execution_count": 15,
      "outputs": [
        {
          "output_type": "execute_result",
          "data": {
            "text/html": [
              "<div>\n",
              "<style scoped>\n",
              "    .dataframe tbody tr th:only-of-type {\n",
              "        vertical-align: middle;\n",
              "    }\n",
              "\n",
              "    .dataframe tbody tr th {\n",
              "        vertical-align: top;\n",
              "    }\n",
              "\n",
              "    .dataframe thead th {\n",
              "        text-align: right;\n",
              "    }\n",
              "</style>\n",
              "<table border=\"1\" class=\"dataframe\">\n",
              "  <thead>\n",
              "    <tr style=\"text-align: right;\">\n",
              "      <th></th>\n",
              "      <th>Kernel</th>\n",
              "      <th>Min</th>\n",
              "      <th>Q1</th>\n",
              "      <th>Mean</th>\n",
              "      <th>Median</th>\n",
              "      <th>Q3</th>\n",
              "      <th>Max</th>\n",
              "    </tr>\n",
              "  </thead>\n",
              "  <tbody>\n",
              "    <tr>\n",
              "      <th>0</th>\n",
              "      <td>RBF</td>\n",
              "      <td>2.3574</td>\n",
              "      <td>4.7850</td>\n",
              "      <td>8.147778</td>\n",
              "      <td>6.1745</td>\n",
              "      <td>10.0557</td>\n",
              "      <td>25.8526</td>\n",
              "    </tr>\n",
              "    <tr>\n",
              "      <th>1</th>\n",
              "      <td>RBF+ExpSin</td>\n",
              "      <td>2.3495</td>\n",
              "      <td>5.1299</td>\n",
              "      <td>10.814594</td>\n",
              "      <td>8.5890</td>\n",
              "      <td>13.2030</td>\n",
              "      <td>33.8727</td>\n",
              "    </tr>\n",
              "  </tbody>\n",
              "</table>\n",
              "</div>"
            ],
            "text/plain": [
              "       Kernel     Min      Q1       Mean  Median       Q3      Max\n",
              "0         RBF  2.3574  4.7850   8.147778  6.1745  10.0557  25.8526\n",
              "1  RBF+ExpSin  2.3495  5.1299  10.814594  8.5890  13.2030  33.8727"
            ]
          },
          "metadata": {
            "tags": []
          },
          "execution_count": 15
        }
      ]
    }
  ]
}